{
 "cells": [
  {
   "cell_type": "code",
   "execution_count": 1,
   "metadata": {},
   "outputs": [
    {
     "name": "stdout",
     "output_type": "stream",
     "text": [
      "robotrobot\n",
      "robot\n",
      "Please select a character:dianwei,zhaoyun,lubanluban\n",
      "luban power--2000 armor--300\n",
      "luban power--2000 armor--300\n",
      "Please enter the startstart\n",
      "start Enter the loader......\n"
     ]
    }
   ],
   "source": [
    "\"\"\"王者荣耀\"\"\"\n",
    "\n",
    "import numpy as np\n",
    "\n",
    "class game(object):\n",
    "    \n",
    "    def mode(self):\n",
    "        click = input(\"robot\"or\"people\")\n",
    "        print(click)\n",
    "    def pickcharather(self):\n",
    "        c = input(\"Please select a character:dianwei,zhaoyun,luban\")\n",
    "        if c==\"dianwei\":\n",
    "            print(c,\"power--1000 armor--800\")\n",
    "        elif c==\"zhaoyun\":\n",
    "            print(c,\"power--1500 armor--500\")\n",
    "        else:\n",
    "            print(c,\"power--2000 armor--300\")\n",
    "    def random(self):\n",
    "        res = np.random.choice([\"dianwei\",\"zhaoyun\",\"luban\"])\n",
    "        if res==\"dianwei\":\n",
    "            print(res,\"power--1000 armor--800\")\n",
    "        elif res==\"zhaoyun\":\n",
    "            print(res,\"power--1500 armor--500\")\n",
    "        else:\n",
    "            print(res,\"power--2000 armor--300\")\n",
    "    def start(self):\n",
    "        a= input(\"Please enter the start\")\n",
    "        print(a,\"Enter the loader......\")\n",
    "b = game()\n",
    "b.mode()\n",
    "b.pickcharather()\n",
    "b.random()\n",
    "b.start()\n",
    "        \n",
    "            \n",
    "        "
   ]
  },
  {
   "cell_type": "code",
   "execution_count": 6,
   "metadata": {},
   "outputs": [
    {
     "name": "stdout",
     "output_type": "stream",
     "text": [
      "1 5 12 22 35 51 70 92 117 145 \n",
      "176 210 247 287 330 376 425 477 532 590 \n",
      "651 715 782 852 925 1001 1080 1162 1247 1335 \n",
      "1426 1520 1617 1717 1820 1926 2035 2147 2262 2380 \n",
      "2501 2625 2752 2882 3015 3151 3290 3432 3577 3725 \n",
      "3876 4030 4187 4347 4510 4676 4845 5017 5192 5370 \n",
      "5551 5735 5922 6112 6305 6501 6700 6902 7107 7315 \n",
      "7526 7740 7957 8177 8400 8626 8855 9087 9322 9560 \n",
      "9801 10045 10292 10542 10795 11051 11310 11572 11837 12105 \n",
      "12376 12650 12927 13207 13490 13776 14065 14357 14652 "
     ]
    }
   ],
   "source": [
    "\"\"\"python day1  -1\n",
    "    显示前100个五角数，每行显示10个\n",
    "\n",
    "\"\"\"\n",
    "\n",
    "def getPentagona1Number():\n",
    "    count = 0\n",
    "    for n in range(1,100):\n",
    "        number = (n * (3* n - 1)) / 2\n",
    "        print(int(number),end = \" \")\n",
    "        count += 1\n",
    "        if count % 10 == 0:\n",
    "            print(end = \"\\n\")\n",
    "            \n",
    "getPentagona1Number()"
   ]
  },
  {
   "cell_type": "code",
   "execution_count": null,
   "metadata": {},
   "outputs": [],
   "source": []
  },
  {
   "cell_type": "code",
   "execution_count": 3,
   "metadata": {},
   "outputs": [
    {
     "name": "stdout",
     "output_type": "stream",
     "text": [
      "Please enter the number：121\n",
      " enter 121个数字\n",
      "number=1\n",
      " enter 121个数字\n",
      "number=3\n",
      " enter 121个数字\n",
      "number=4\n"
     ]
    }
   ],
   "source": [
    "\"\"\"python day1   -2\n",
    "    提示用户输入一个整数，然后显示这个整数所有数字的和\n",
    "\n",
    "\"\"\"\n",
    "\n",
    "def sumDigits():   \n",
    "    a = input(\"Please enter the number：\") \n",
    "    number = 0\n",
    "    if a.isdigit():\n",
    "        for i in range(len(a)):\n",
    "            cut_num = a[i:i + 1]\n",
    "            number = number + int(cut_num)\n",
    "            print (' enter ' + str(a) + '个数字\\nnumber=' + str(number))\n",
    "    else:\n",
    "        print(\"byby\")\n",
    "sumDigits()"
   ]
  },
  {
   "cell_type": "code",
   "execution_count": null,
   "metadata": {},
   "outputs": [],
   "source": []
  },
  {
   "cell_type": "code",
   "execution_count": 12,
   "metadata": {},
   "outputs": [
    {
     "name": "stdout",
     "output_type": "stream",
     "text": [
      "输入一个数:123124\n",
      "输入一个数:1\n",
      "输入一个数:234\n",
      "(1, 234, 123124)\n"
     ]
    }
   ],
   "source": [
    "\"\"\"python day1   -3\n",
    "    按升序显示三个数  \n",
    "\n",
    "\n",
    "\"\"\"\n",
    "\n",
    "def displaysortedNumber(num1,num2,num3):\n",
    "    List = []\n",
    "    List.append(num1)\n",
    "    List.append(num2)\n",
    "    List.append(num3)\n",
    "    List.sort()\n",
    "    return List[0],List[1],List[2]\n",
    "def main():\n",
    "    num1 = eval(input(\"输入一个数:\"))\n",
    "    num2 = eval(input(\"输入一个数:\"))\n",
    "    num3 = eval(input(\"输入一个数:\"))\n",
    "    print(displaysortedNumber(num1,num2,num3))\n",
    "main()\n"
   ]
  },
  {
   "cell_type": "code",
   "execution_count": null,
   "metadata": {},
   "outputs": [],
   "source": []
  },
  {
   "cell_type": "code",
   "execution_count": 14,
   "metadata": {},
   "outputs": [
    {
     "name": "stdout",
     "output_type": "stream",
     "text": [
      "输入investmentAmount：12331\n",
      "输入monthlyInterestRate：9\n",
      "1 年后\t 13487.73\n",
      "2 年后\t 14752.98\n",
      "3 年后\t 16136.91\n",
      "4 年后\t 17650.66\n",
      "5 年后\t 19306.41\n",
      "6 年后\t 21117.49\n",
      "7 年后\t 23098.45\n",
      "8 年后\t 25265.25\n",
      "9 年后\t 27635.3\n",
      "10 年后\t 30227.68\n",
      "11 年后\t 33063.25\n",
      "12 年后\t 36164.81\n",
      "13 年后\t 39557.32\n",
      "14 年后\t 43268.07\n",
      "15 年后\t 47326.91\n",
      "16 年后\t 51766.5\n",
      "17 年后\t 56622.56\n",
      "18 年后\t 61934.14\n",
      "19 年后\t 67743.99\n",
      "20 年后\t 74098.85\n",
      "21 年后\t 81049.83\n",
      "22 年后\t 88652.86\n",
      "23 年后\t 96969.11\n",
      "24 年后\t 106065.49\n",
      "25 年后\t 116015.16\n",
      "26 年后\t 126898.18\n",
      "27 年后\t 138802.11\n",
      "28 年后\t 151822.7\n",
      "29 年后\t 166064.72\n",
      "30 年后\t 181642.73\n"
     ]
    }
   ],
   "source": [
    "\"\"\"\n",
    "python day1   -4\n",
    "\n",
    "\"\"\"\n",
    "def futureInvestmentValue(investmentAmount,monthlyInterestRate,years):\n",
    "    return investmentAmount * ((1 + monthlyInterestRate / 1200) ** (years * 12))\n",
    "def main():\n",
    "    investmentAmount = eval(input(\"输入investmentAmount：\"))\n",
    "    monthlyInterestRate = eval(input('输入monthlyInterestRate：'))\n",
    "    year = 30\n",
    "    for i in range(year):\n",
    "        Value = futureInvestmentValue(investmentAmount, monthlyInterestRate, i+1)\n",
    "        print(i+1,'年后\\t', round(Value, 2))\n",
    "main()\n"
   ]
  },
  {
   "cell_type": "code",
   "execution_count": null,
   "metadata": {},
   "outputs": [],
   "source": []
  },
  {
   "cell_type": "code",
   "execution_count": 36,
   "metadata": {},
   "outputs": [
    {
     "name": "stdout",
     "output_type": "stream",
     "text": [
      "1 2 3 4 5 6 7 8 9 : \n",
      "; < = > ? @ A B C D \n",
      "E F G H I J K L M N \n",
      "O P Q R S T U V W X \n",
      "Y "
     ]
    }
   ],
   "source": [
    "\"\"\"python day1   -5\n",
    "    打印“1”到“Z”的字符，每行打印10个\n",
    "\n",
    "\"\"\"\n",
    "def prinChars(ch1,ch2,numberPerLine):\n",
    "    a = ord(ch1)\n",
    "    b = ord(ch2)\n",
    "    count = 0\n",
    "    for i in range(a,b):\n",
    "        a1 = chr(i)\n",
    "        print(a1,end = \" \")\n",
    "        count += 1\n",
    "        if count % 10 == 0:\n",
    "            print(end = \"\\n\")\n",
    "prinChars(\"1\",\"Z\",10)\n"
   ]
  },
  {
   "cell_type": "code",
   "execution_count": null,
   "metadata": {},
   "outputs": [],
   "source": []
  },
  {
   "cell_type": "code",
   "execution_count": 33,
   "metadata": {
    "scrolled": true
   },
   "outputs": [
    {
     "name": "stdout",
     "output_type": "stream",
     "text": [
      "2010 年 :365天\n",
      "2011 年 :365天\n",
      "2012 年 :366天\n",
      "2013 年 :365天\n",
      "2014 年 :365天\n",
      "2015 年 :365天\n",
      "2016 年 :366天\n",
      "2017 年 :365天\n",
      "2018 年 :365天\n",
      "2019 年 :365天\n",
      "2020 年 :366天\n"
     ]
    }
   ],
   "source": [
    "\"\"\"\n",
    "python day1   -6\n",
    "显示从2010年到2020年每年的天数\n",
    "\"\"\"\n",
    "def numberOfDaysInAYear():\n",
    "    for i in range(2010,2021):\n",
    "        if i % 4 == 0 and i%100 != 0:\n",
    "            print(i , '年',':366天')\n",
    "        else:\n",
    "            print(i , '年',':365天')\n",
    "\n",
    "numberOfDaysInAYear()"
   ]
  },
  {
   "cell_type": "markdown",
   "metadata": {},
   "source": []
  },
  {
   "cell_type": "code",
   "execution_count": 17,
   "metadata": {},
   "outputs": [
    {
     "name": "stdout",
     "output_type": "stream",
     "text": [
      "6.708203932499369\n"
     ]
    }
   ],
   "source": [
    "\n",
    "\"\"\"\n",
    "python day1   -7\n",
    "用函数计算两点之间的距离\n",
    "\"\"\"\n",
    "import math\n",
    "def distance(x1,y1,x2,y2):\n",
    "    \n",
    "    d_x = x1 - x2\n",
    "    d_y = y1 - y2\n",
    "    distance = math.sqrt(d_x**2 + d_y**2)\n",
    "    print(distance)\n",
    "    \n",
    "distance(2,6,8,9)"
   ]
  },
  {
   "cell_type": "code",
   "execution_count": 3,
   "metadata": {},
   "outputs": [
    {
     "name": "stdout",
     "output_type": "stream",
     "text": [
      "2 3\n",
      "3 7\n"
     ]
    }
   ],
   "source": [
    "\"\"\"\n",
    "python day1   -8\n",
    "编写程序找出所有p<= 31的梅森素数，\n",
    "\n",
    "\"\"\"\n",
    "def sushu(num):\n",
    "    for y in range(2,num):\n",
    "        if num%y == 0:\n",
    "            break\n",
    "    else:\n",
    "        return True\n",
    "def meisen(num):\n",
    "    for i in range(num):\n",
    "        if sushu(num) == True and num == (2**i-1):\n",
    "            print(i,num)\n",
    "for num in range(1, 31):\n",
    "    meisen(num)"
   ]
  },
  {
   "cell_type": "code",
   "execution_count": 2,
   "metadata": {},
   "outputs": [
    {
     "name": "stdout",
     "output_type": "stream",
     "text": [
      "毫秒为 1565343895.738399\n",
      "Fri Aug  9 17:44:55 2019\n"
     ]
    }
   ],
   "source": [
    "\"\"\"\n",
    "python day1   -9\n",
    "调用time.time()返回从1970年1月1日0点开始的豪秒数，编写程序显示日期和时间\n",
    "\"\"\"\n",
    "\n",
    "\n",
    "import time\n",
    "\n",
    "def time1():\n",
    "    \n",
    "    a = time.time()\n",
    "    print('毫秒为',a)\n",
    "    print(time.asctime(time.localtime(time.time())))\n",
    "    \n",
    "    \n",
    "time1()"
   ]
  },
  {
   "cell_type": "code",
   "execution_count": 5,
   "metadata": {},
   "outputs": [
    {
     "name": "stdout",
     "output_type": "stream",
     "text": [
      "1\n",
      "1\n",
      "you lose\n"
     ]
    }
   ],
   "source": [
    "\"\"\"\n",
    "python day1   -10\n",
    "\"\"\"\n",
    "import random\n",
    "def game():\n",
    "    a = random.randint(1,6)\n",
    "    print(a)\n",
    "    b = random.randint(1,6)\n",
    "    print(b)\n",
    "    if a + b == 2 or a + b == 12 or a + b == 3:\n",
    "        ww = True\n",
    "        print(\"you lose\")\n",
    "    elif a + b == 7 or a + b == 11:\n",
    "        ee = True\n",
    "        print(\"you win\")\n",
    "    else:\n",
    "        print(\"再掷一次\")\n",
    "        while True:\n",
    "            c = random.randint(1,6)\n",
    "            d = random.randint(1,6)\n",
    "            if c == 7 or d == 7:\n",
    "                print(\"you win\")\n",
    "game()"
   ]
  },
  {
   "cell_type": "code",
   "execution_count": null,
   "metadata": {},
   "outputs": [],
   "source": []
  }
 ],
 "metadata": {
  "kernelspec": {
   "display_name": "Python 3",
   "language": "python",
   "name": "python3"
  },
  "language_info": {
   "codemirror_mode": {
    "name": "ipython",
    "version": 3
   },
   "file_extension": ".py",
   "mimetype": "text/x-python",
   "name": "python",
   "nbconvert_exporter": "python",
   "pygments_lexer": "ipython3",
   "version": "3.7.1"
  }
 },
 "nbformat": 4,
 "nbformat_minor": 2
}
